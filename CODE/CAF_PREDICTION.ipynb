{
 "cells": [
  {
   "cell_type": "code",
   "execution_count": 1,
   "id": "7dbfa74a",
   "metadata": {},
   "outputs": [],
   "source": [
    "import numpy as np\n",
    "import pandas as pd\n",
    "pd.options.mode.chained_assignment = None  # default='warn'\n",
    "from scipy.stats import poisson\n",
    "import statistics as st\n",
    "import matplotlib.pyplot as plt"
   ]
  },
  {
   "cell_type": "code",
   "execution_count": 2,
   "id": "42ad58e6",
   "metadata": {},
   "outputs": [
    {
     "name": "stdout",
     "output_type": "stream",
     "text": [
      "2.6.0\n"
     ]
    }
   ],
   "source": [
    "import tensorflow as tf\n",
    "from tensorflow import keras\n",
    "from tensorflow.keras import layers\n",
    "from tensorflow.keras.layers.experimental import preprocessing\n",
    "\n",
    "print(tf.__version__)"
   ]
  },
  {
   "cell_type": "code",
   "execution_count": 3,
   "id": "63d826d1",
   "metadata": {},
   "outputs": [],
   "source": [
    "upcoming_caf = pd.read_csv(\"/Users/abhijotsingh/Desktop/AtlassianDatathon/CAF/INPUT/upcoming_caf.csv\")\n",
    "caf = pd.read_csv(\"/Users/abhijotsingh/Desktop/AtlassianDatathon/CAF/INPUT/caf_input.csv\")\n",
    "# home_xg = conmebol[\"H_xG\"]\n",
    "# away_xg = conmebol[\"A_xG\"]"
   ]
  },
  {
   "cell_type": "code",
   "execution_count": 4,
   "id": "7a1ebf55",
   "metadata": {},
   "outputs": [],
   "source": [
    "# Regression model - Neural network for home_xG, away_xg\n",
    "home_xg_df = caf[['home_score', 'H_attack', 'A_defence']]\n",
    "away_xg_df = caf[['away_score', 'H_defence', 'A_attack']]\n",
    "\n",
    "# Splitting dataset\n",
    "train_homexG = home_xg_df.sample(frac=0.8, random_state = 0)\n",
    "test_homexG = home_xg_df.drop(train_homexG.index)\n",
    "\n",
    "train_awayxG = away_xg_df.sample(frac=0.8, random_state = 0)\n",
    "test_awayxG = away_xg_df.drop(train_awayxG.index)\n",
    "\n",
    "# For home_xG\n",
    "train_features = train_homexG.copy()\n",
    "test_features = test_homexG.copy()\n",
    "\n",
    "train_labels = train_features.pop('home_score')\n",
    "test_labels = test_features.pop('home_score')\n",
    "\n",
    "# For away_xG\n",
    "train_features2 = train_awayxG.copy()\n",
    "test_features2 = test_awayxG.copy()\n",
    "\n",
    "train_labels2 = train_features2.pop('away_score')\n",
    "test_labels2 = test_features2.pop('away_score')"
   ]
  },
  {
   "cell_type": "code",
   "execution_count": 5,
   "id": "867053d1",
   "metadata": {},
   "outputs": [
    {
     "name": "stdout",
     "output_type": "stream",
     "text": [
      "Model: \"sequential_2\"\n",
      "_________________________________________________________________\n",
      "Layer (type)                 Output Shape              Param #   \n",
      "=================================================================\n",
      "normalization (Normalization (None, 2)                 5         \n",
      "_________________________________________________________________\n",
      "dense_2 (Dense)              (None, 64)                192       \n",
      "_________________________________________________________________\n",
      "dense_3 (Dense)              (None, 64)                4160      \n",
      "_________________________________________________________________\n",
      "dense_4 (Dense)              (None, 1)                 65        \n",
      "=================================================================\n",
      "Total params: 4,422\n",
      "Trainable params: 4,417\n",
      "Non-trainable params: 5\n",
      "_________________________________________________________________\n",
      "Model: \"sequential_3\"\n",
      "_________________________________________________________________\n",
      "Layer (type)                 Output Shape              Param #   \n",
      "=================================================================\n",
      "normalization_1 (Normalizati (None, 2)                 5         \n",
      "_________________________________________________________________\n",
      "dense_5 (Dense)              (None, 64)                192       \n",
      "_________________________________________________________________\n",
      "dense_6 (Dense)              (None, 64)                4160      \n",
      "_________________________________________________________________\n",
      "dense_7 (Dense)              (None, 1)                 65        \n",
      "=================================================================\n",
      "Total params: 4,422\n",
      "Trainable params: 4,417\n",
      "Non-trainable params: 5\n",
      "_________________________________________________________________\n"
     ]
    }
   ],
   "source": [
    "# Pre-processing, home / away\n",
    "normalizer = preprocessing.Normalization(axis=-1)\n",
    "normalizer.adapt(np.array(train_features))\n",
    "\n",
    "normalizer2 = preprocessing.Normalization(axis=-1)\n",
    "normalizer2.adapt(np.array(train_features2))\n",
    "\n",
    "# Model functions, home / away\n",
    "# home\n",
    "linear_model = tf.keras.Sequential([\n",
    "    normalizer,\n",
    "    layers.Dense(units=1)\n",
    "])\n",
    "# away\n",
    "linear_model2 = tf.keras.Sequential([\n",
    "    normalizer2,\n",
    "    layers.Dense(units=1)\n",
    "])\n",
    "\n",
    "def build_and_compile_model(norm):\n",
    "  model = keras.Sequential([\n",
    "      norm,\n",
    "      layers.Dense(64, activation='relu'),\n",
    "      layers.Dense(64, activation='relu'),\n",
    "      layers.Dense(1)\n",
    "  ])\n",
    "\n",
    "  model.compile(loss='mean_absolute_error',\n",
    "                optimizer=tf.keras.optimizers.Adam(0.004))\n",
    "  return model\n",
    "\n",
    "# Building model, home / away\n",
    "dnn_model = build_and_compile_model(normalizer)\n",
    "dnn_model.summary()\n",
    "\n",
    "dnn_model2 = build_and_compile_model(normalizer2)\n",
    "dnn_model2.summary()"
   ]
  },
  {
   "cell_type": "code",
   "execution_count": 6,
   "id": "f94dacf2",
   "metadata": {},
   "outputs": [
    {
     "name": "stdout",
     "output_type": "stream",
     "text": [
      "CPU times: user 48.4 s, sys: 8.67 s, total: 57 s\n",
      "Wall time: 35.8 s\n"
     ]
    }
   ],
   "source": [
    "%%time\n",
    "history = dnn_model.fit(\n",
    "    train_features, train_labels,\n",
    "    validation_split=0.2,\n",
    "    verbose=0, epochs=1000)\n",
    "\n",
    "# training model home"
   ]
  },
  {
   "cell_type": "code",
   "execution_count": 7,
   "id": "c3f14201",
   "metadata": {},
   "outputs": [
    {
     "name": "stdout",
     "output_type": "stream",
     "text": [
      "CPU times: user 51.8 s, sys: 9.7 s, total: 1min 1s\n",
      "Wall time: 38.7 s\n"
     ]
    }
   ],
   "source": [
    "%%time\n",
    "history = dnn_model2.fit(\n",
    "    train_features2, train_labels2,\n",
    "    validation_split=0.2,\n",
    "    verbose=0, epochs=1000)\n",
    "\n",
    "# training model away"
   ]
  },
  {
   "cell_type": "code",
   "execution_count": 8,
   "id": "c4b90019",
   "metadata": {},
   "outputs": [
    {
     "data": {
      "text/html": [
       "<div>\n",
       "<style scoped>\n",
       "    .dataframe tbody tr th:only-of-type {\n",
       "        vertical-align: middle;\n",
       "    }\n",
       "\n",
       "    .dataframe tbody tr th {\n",
       "        vertical-align: top;\n",
       "    }\n",
       "\n",
       "    .dataframe thead th {\n",
       "        text-align: right;\n",
       "    }\n",
       "</style>\n",
       "<table border=\"1\" class=\"dataframe\">\n",
       "  <thead>\n",
       "    <tr style=\"text-align: right;\">\n",
       "      <th></th>\n",
       "      <th>Mean absolute error [away_score]</th>\n",
       "    </tr>\n",
       "  </thead>\n",
       "  <tbody>\n",
       "    <tr>\n",
       "      <th>dnn_model2</th>\n",
       "      <td>0.76054</td>\n",
       "    </tr>\n",
       "  </tbody>\n",
       "</table>\n",
       "</div>"
      ],
      "text/plain": [
       "            Mean absolute error [away_score]\n",
       "dnn_model2                           0.76054"
      ]
     },
     "execution_count": 8,
     "metadata": {},
     "output_type": "execute_result"
    }
   ],
   "source": [
    "test_results = {}\n",
    "test_results['dnn_model'] = dnn_model.evaluate(test_features, test_labels, verbose=0)\n",
    "pd.DataFrame(test_results, index=['Mean absolute error [home_score]']).T\n",
    "\n",
    "test_results2 = {}\n",
    "test_results2['dnn_model2'] = dnn_model2.evaluate(test_features2, test_labels2, verbose=0)\n",
    "pd.DataFrame(test_results2, index=['Mean absolute error [away_score]']).T\n"
   ]
  },
  {
   "cell_type": "code",
   "execution_count": 9,
   "id": "0752fa15",
   "metadata": {},
   "outputs": [],
   "source": [
    "# Predicting home_xG and away_xG for upcoming fixtures\n",
    "home_xg_features = upcoming_caf[['H_attack', 'A_defence']]\n",
    "pred_home_xg = dnn_model.predict(home_xg_features).flatten()\n",
    "pred_home_xg = [0 if i < 0 else i for i in pred_home_xg]\n",
    "\n",
    "away_xg_features = upcoming_caf[['H_defence', 'A_attack']]\n",
    "pred_away_xg = dnn_model2.predict(away_xg_features).flatten()\n",
    "pred_away_xg = [0 if i < 0 else i for i in pred_away_xg]\n",
    "#pred_away_xg"
   ]
  },
  {
   "cell_type": "code",
   "execution_count": 10,
   "id": "5bcec53c",
   "metadata": {},
   "outputs": [
    {
     "ename": "ValueError",
     "evalue": "Domain error in arguments.",
     "output_type": "error",
     "traceback": [
      "\u001b[0;31m---------------------------------------------------------------------------\u001b[0m",
      "\u001b[0;31mValueError\u001b[0m                                Traceback (most recent call last)",
      "\u001b[0;32m<ipython-input-10-dd2a13cd817f>\u001b[0m in \u001b[0;36m<module>\u001b[0;34m\u001b[0m\n\u001b[1;32m      4\u001b[0m \u001b[0;32mfor\u001b[0m \u001b[0mi\u001b[0m \u001b[0;32min\u001b[0m \u001b[0mrange\u001b[0m\u001b[0;34m(\u001b[0m\u001b[0mlen\u001b[0m\u001b[0;34m(\u001b[0m\u001b[0mpred_home_xg\u001b[0m\u001b[0;34m)\u001b[0m\u001b[0;34m)\u001b[0m\u001b[0;34m:\u001b[0m\u001b[0;34m\u001b[0m\u001b[0;34m\u001b[0m\u001b[0m\n\u001b[1;32m      5\u001b[0m     \u001b[0mexpected\u001b[0m \u001b[0;34m=\u001b[0m \u001b[0mpred_home_xg\u001b[0m\u001b[0;34m[\u001b[0m\u001b[0mi\u001b[0m\u001b[0;34m]\u001b[0m \u001b[0;34m-\u001b[0m \u001b[0;36m0.25\u001b[0m\u001b[0;34m\u001b[0m\u001b[0;34m\u001b[0m\u001b[0m\n\u001b[0;32m----> 6\u001b[0;31m     \u001b[0mpoi\u001b[0m \u001b[0;34m=\u001b[0m \u001b[0mpoisson\u001b[0m\u001b[0;34m.\u001b[0m\u001b[0mrvs\u001b[0m\u001b[0;34m(\u001b[0m\u001b[0mexpected\u001b[0m\u001b[0;34m,\u001b[0m \u001b[0msize\u001b[0m\u001b[0;34m=\u001b[0m\u001b[0;36m10000\u001b[0m\u001b[0;34m)\u001b[0m\u001b[0;34m\u001b[0m\u001b[0;34m\u001b[0m\u001b[0m\n\u001b[0m\u001b[1;32m      7\u001b[0m     \u001b[0;31m# Select most common outcome and append to the poisson outcome list\u001b[0m\u001b[0;34m\u001b[0m\u001b[0;34m\u001b[0m\u001b[0;34m\u001b[0m\u001b[0m\n\u001b[1;32m      8\u001b[0m     \u001b[0mcommon\u001b[0m \u001b[0;34m=\u001b[0m \u001b[0mst\u001b[0m\u001b[0;34m.\u001b[0m\u001b[0mmode\u001b[0m\u001b[0;34m(\u001b[0m\u001b[0mpoi\u001b[0m\u001b[0;34m)\u001b[0m\u001b[0;34m\u001b[0m\u001b[0;34m\u001b[0m\u001b[0m\n",
      "\u001b[0;32m~/opt/anaconda3/lib/python3.8/site-packages/scipy/stats/_distn_infrastructure.py\u001b[0m in \u001b[0;36mrvs\u001b[0;34m(self, *args, **kwargs)\u001b[0m\n\u001b[1;32m   3076\u001b[0m         \"\"\"\n\u001b[1;32m   3077\u001b[0m         \u001b[0mkwargs\u001b[0m\u001b[0;34m[\u001b[0m\u001b[0;34m'discrete'\u001b[0m\u001b[0;34m]\u001b[0m \u001b[0;34m=\u001b[0m \u001b[0;32mTrue\u001b[0m\u001b[0;34m\u001b[0m\u001b[0;34m\u001b[0m\u001b[0m\n\u001b[0;32m-> 3078\u001b[0;31m         \u001b[0;32mreturn\u001b[0m \u001b[0msuper\u001b[0m\u001b[0;34m(\u001b[0m\u001b[0mrv_discrete\u001b[0m\u001b[0;34m,\u001b[0m \u001b[0mself\u001b[0m\u001b[0;34m)\u001b[0m\u001b[0;34m.\u001b[0m\u001b[0mrvs\u001b[0m\u001b[0;34m(\u001b[0m\u001b[0;34m*\u001b[0m\u001b[0margs\u001b[0m\u001b[0;34m,\u001b[0m \u001b[0;34m**\u001b[0m\u001b[0mkwargs\u001b[0m\u001b[0;34m)\u001b[0m\u001b[0;34m\u001b[0m\u001b[0;34m\u001b[0m\u001b[0m\n\u001b[0m\u001b[1;32m   3079\u001b[0m \u001b[0;34m\u001b[0m\u001b[0m\n\u001b[1;32m   3080\u001b[0m     \u001b[0;32mdef\u001b[0m \u001b[0mpmf\u001b[0m\u001b[0;34m(\u001b[0m\u001b[0mself\u001b[0m\u001b[0;34m,\u001b[0m \u001b[0mk\u001b[0m\u001b[0;34m,\u001b[0m \u001b[0;34m*\u001b[0m\u001b[0margs\u001b[0m\u001b[0;34m,\u001b[0m \u001b[0;34m**\u001b[0m\u001b[0mkwds\u001b[0m\u001b[0;34m)\u001b[0m\u001b[0;34m:\u001b[0m\u001b[0;34m\u001b[0m\u001b[0;34m\u001b[0m\u001b[0m\n",
      "\u001b[0;32m~/opt/anaconda3/lib/python3.8/site-packages/scipy/stats/_distn_infrastructure.py\u001b[0m in \u001b[0;36mrvs\u001b[0;34m(self, *args, **kwds)\u001b[0m\n\u001b[1;32m   1033\u001b[0m         \u001b[0mcond\u001b[0m \u001b[0;34m=\u001b[0m \u001b[0mlogical_and\u001b[0m\u001b[0;34m(\u001b[0m\u001b[0mself\u001b[0m\u001b[0;34m.\u001b[0m\u001b[0m_argcheck\u001b[0m\u001b[0;34m(\u001b[0m\u001b[0;34m*\u001b[0m\u001b[0margs\u001b[0m\u001b[0;34m)\u001b[0m\u001b[0;34m,\u001b[0m \u001b[0;34m(\u001b[0m\u001b[0mscale\u001b[0m \u001b[0;34m>=\u001b[0m \u001b[0;36m0\u001b[0m\u001b[0;34m)\u001b[0m\u001b[0;34m)\u001b[0m\u001b[0;34m\u001b[0m\u001b[0;34m\u001b[0m\u001b[0m\n\u001b[1;32m   1034\u001b[0m         \u001b[0;32mif\u001b[0m \u001b[0;32mnot\u001b[0m \u001b[0mnp\u001b[0m\u001b[0;34m.\u001b[0m\u001b[0mall\u001b[0m\u001b[0;34m(\u001b[0m\u001b[0mcond\u001b[0m\u001b[0;34m)\u001b[0m\u001b[0;34m:\u001b[0m\u001b[0;34m\u001b[0m\u001b[0;34m\u001b[0m\u001b[0m\n\u001b[0;32m-> 1035\u001b[0;31m             \u001b[0;32mraise\u001b[0m \u001b[0mValueError\u001b[0m\u001b[0;34m(\u001b[0m\u001b[0;34m\"Domain error in arguments.\"\u001b[0m\u001b[0;34m)\u001b[0m\u001b[0;34m\u001b[0m\u001b[0;34m\u001b[0m\u001b[0m\n\u001b[0m\u001b[1;32m   1036\u001b[0m \u001b[0;34m\u001b[0m\u001b[0m\n\u001b[1;32m   1037\u001b[0m         \u001b[0;32mif\u001b[0m \u001b[0mnp\u001b[0m\u001b[0;34m.\u001b[0m\u001b[0mall\u001b[0m\u001b[0;34m(\u001b[0m\u001b[0mscale\u001b[0m \u001b[0;34m==\u001b[0m \u001b[0;36m0\u001b[0m\u001b[0;34m)\u001b[0m\u001b[0;34m:\u001b[0m\u001b[0;34m\u001b[0m\u001b[0;34m\u001b[0m\u001b[0m\n",
      "\u001b[0;31mValueError\u001b[0m: Domain error in arguments."
     ]
    }
   ],
   "source": [
    "# Run the poisson results for the home team\n",
    "home_outcome = []\n",
    "\n",
    "for i in range(len(pred_home_xg)):\n",
    "    expected = pred_home_xg[i] - 0.25\n",
    "    poi = poisson.rvs(expected, size=10000)\n",
    "    # Select most common outcome and append to the poisson outcome list\n",
    "    common = st.mode(poi)\n",
    "    home_outcome.append(common)\n",
    "\n",
    "#home_outcome"
   ]
  },
  {
   "cell_type": "code",
   "execution_count": null,
   "id": "de18f3a2",
   "metadata": {},
   "outputs": [],
   "source": [
    "# Run the poisson results for the away team\n",
    "away_outcome = []\n",
    "\n",
    "for i in range(len(pred_away_xg)):\n",
    "    expected = pred_away_xg[i] + 0.25\n",
    "    poi = poisson.rvs(expected, size=10000)\n",
    "    # Select most common outcome and append to the poisson outcome list\n",
    "    common = st.mode(poi)\n",
    "    away_outcome.append(common)\n",
    "\n",
    "away_outcome"
   ]
  },
  {
   "cell_type": "code",
   "execution_count": null,
   "id": "744e7332",
   "metadata": {},
   "outputs": [],
   "source": [
    "upcoming_caf[\"Poisson_H_xG\"] = home_outcome\n",
    "upcoming_caf[\"Poisson_A_xG\"] = away_outcome\n",
    "caf_result = upcoming_caf[['Date', 'Home', 'Away', 'Poisson_H_xG', 'Poisson_A_xG']]\n",
    "\n",
    "result = []\n",
    "outcomes = [\"H_WIN\", \"DRAW\", \"A_WIN\"]\n",
    "for i in range(len(away_outcome)):\n",
    "    if upcoming_caf[\"Poisson_H_xG\"][i] > upcoming_caf[\"Poisson_A_xG\"][i]:\n",
    "        result.append(outcomes[0])\n",
    "    elif upcoming_caf[\"Poisson_H_xG\"][i] == upcoming_caf[\"Poisson_A_xG\"][i]:\n",
    "        result.append(outcomes[1])\n",
    "    else:\n",
    "        result.append(outcomes[2])\n",
    "\n",
    "caf_result[\"Results\"] = result\n",
    "\n",
    "H_Points = []\n",
    "A_Points = []\n",
    "for i in range(len(away_outcome)):\n",
    "    if result[i] == \"H_WIN\":\n",
    "        H_Points.append(3)\n",
    "        A_Points.append(0)\n",
    "    elif result[i] == \"DRAW\":\n",
    "        H_Points.append(1)\n",
    "        A_Points.append(1)\n",
    "    else:\n",
    "        H_Points.append(0)\n",
    "        A_Points.append(3)\n",
    "       \n",
    "        \n",
    "caf_result[\"H_Points\"] = H_Points\n",
    "caf_result[\"A_Points\"] = A_Points\n",
    "caf_result"
   ]
  },
  {
   "cell_type": "code",
   "execution_count": null,
   "id": "a4065eb4",
   "metadata": {},
   "outputs": [],
   "source": [
    "# Create Points Table\n",
    "result_table = pd.DataFrame(columns=['Team','GF','GA', 'Points'])\n",
    "caf_home = caf_result.groupby(\"Home\")[\"H_Points\"].sum()\n",
    "caf_away = caf_result.groupby(\"Away\")[\"A_Points\"].sum()\n",
    "points = caf_home + caf_away\n",
    "H_GF = caf_result.groupby(\"Home\")[\"Poisson_H_xG\"].sum()\n",
    "A_GF = caf_result.groupby(\"Away\")[\"Poisson_A_xG\"].sum()\n",
    "H_GA = caf_result.groupby(\"Home\")[\"Poisson_A_xG\"].sum()\n",
    "A_GA = caf_result.groupby(\"Away\")[\"Poisson_H_xG\"].sum()\n",
    "\n",
    "GF = H_GF + A_GF\n",
    "GA = H_GA + A_GA\n",
    "\n",
    "team_list = pd.unique(caf_result[\"Home\"])\n",
    "team_list_sort = sorted(team_list)\n",
    "\n",
    "result_table[\"Points\"] = points\n",
    "result_table[\"GF\"] = GF\n",
    "result_table[\"GA\"] = GA\n",
    "result_table[\"Team\"] = team_list_sort\n",
    "result_table"
   ]
  },
  {
   "cell_type": "code",
   "execution_count": null,
   "id": "d3f6a6b7",
   "metadata": {},
   "outputs": [],
   "source": [
    "#caf_result.to_csv(\"/Users/abhijotsingh/Desktop/AtlassianDatathon/CAF/OUTPUT/caf_results.csv\", index=False)\n",
    "#result_table.to_csv(\"/Users/abhijotsingh/Desktop/AtlassianDatathon/CAF/OUTPUT/caf_points_table.csv\", index=False)"
   ]
  },
  {
   "cell_type": "code",
   "execution_count": null,
   "id": "477bf089",
   "metadata": {},
   "outputs": [],
   "source": []
  }
 ],
 "metadata": {
  "kernelspec": {
   "display_name": "Python 3",
   "language": "python",
   "name": "python3"
  },
  "language_info": {
   "codemirror_mode": {
    "name": "ipython",
    "version": 3
   },
   "file_extension": ".py",
   "mimetype": "text/x-python",
   "name": "python",
   "nbconvert_exporter": "python",
   "pygments_lexer": "ipython3",
   "version": "3.8.8"
  }
 },
 "nbformat": 4,
 "nbformat_minor": 5
}
