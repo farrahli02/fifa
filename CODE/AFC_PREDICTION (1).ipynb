{
 "cells": [
  {
   "cell_type": "code",
   "execution_count": 1,
   "id": "7dbfa74a",
   "metadata": {},
   "outputs": [],
   "source": [
    "import numpy as np\n",
    "import pandas as pd\n",
    "pd.options.mode.chained_assignment = None  # default='warn'\n",
    "from scipy.stats import poisson\n",
    "import statistics as st\n",
    "import matplotlib.pyplot as plt"
   ]
  },
  {
   "cell_type": "code",
   "execution_count": 2,
   "id": "42ad58e6",
   "metadata": {},
   "outputs": [
    {
     "name": "stdout",
     "output_type": "stream",
     "text": [
      "2.6.0\n"
     ]
    }
   ],
   "source": [
    "import tensorflow as tf\n",
    "from tensorflow import keras\n",
    "from tensorflow.keras import layers\n",
    "from tensorflow.keras.layers.experimental import preprocessing\n",
    "\n",
    "print(tf.__version__)"
   ]
  },
  {
   "cell_type": "code",
   "execution_count": 3,
   "id": "63d826d1",
   "metadata": {},
   "outputs": [],
   "source": [
    "# Input sheet for model to train on\n",
    "afc = pd.read_csv(\"/Users/abhijotsingh/Desktop/AtlassianDatathon/AFC/INPUT/afc_input.csv\")\n",
    "# Predicting upcoming matches sheet\n",
    "# upcoming_afc = pd.read_csv(\"/Users/abhijotsingh/Desktop/AtlassianDatathon/upcoming_afc.csv\")\n",
    "# Predicting 3rd place match\n",
    "upcoming_afc = pd.read_csv(\"/Users/abhijotsingh/Desktop/AtlassianDatathon/AFC/INPUT/thirdplace.csv\")"
   ]
  },
  {
   "cell_type": "code",
   "execution_count": 4,
   "id": "7a1ebf55",
   "metadata": {},
   "outputs": [],
   "source": [
    "# Regression model - Neural network for home_xG, away_xg\n",
    "home_xg_df = afc[['home_score', 'H_attack', 'A_defence']]\n",
    "away_xg_df = afc[['away_score', 'H_defence', 'A_attack']]\n",
    "\n",
    "# Splitting dataset\n",
    "train_homexG = home_xg_df.sample(frac=0.8, random_state = 0)\n",
    "test_homexG = home_xg_df.drop(train_homexG.index)\n",
    "\n",
    "train_awayxG = away_xg_df.sample(frac=0.8, random_state = 0)\n",
    "test_awayxG = away_xg_df.drop(train_awayxG.index)\n",
    "\n",
    "# For home_xG\n",
    "train_features = train_homexG.copy()\n",
    "test_features = test_homexG.copy()\n",
    "\n",
    "train_labels = train_features.pop('home_score')\n",
    "test_labels = test_features.pop('home_score')\n",
    "\n",
    "# For away_xG\n",
    "train_features2 = train_awayxG.copy()\n",
    "test_features2 = test_awayxG.copy()\n",
    "\n",
    "train_labels2 = train_features2.pop('away_score')\n",
    "test_labels2 = test_features2.pop('away_score')"
   ]
  },
  {
   "cell_type": "code",
   "execution_count": 5,
   "id": "867053d1",
   "metadata": {},
   "outputs": [
    {
     "name": "stdout",
     "output_type": "stream",
     "text": [
      "Model: \"sequential_2\"\n",
      "_________________________________________________________________\n",
      "Layer (type)                 Output Shape              Param #   \n",
      "=================================================================\n",
      "normalization (Normalization (None, 2)                 5         \n",
      "_________________________________________________________________\n",
      "dense_2 (Dense)              (None, 64)                192       \n",
      "_________________________________________________________________\n",
      "dense_3 (Dense)              (None, 64)                4160      \n",
      "_________________________________________________________________\n",
      "dense_4 (Dense)              (None, 1)                 65        \n",
      "=================================================================\n",
      "Total params: 4,422\n",
      "Trainable params: 4,417\n",
      "Non-trainable params: 5\n",
      "_________________________________________________________________\n",
      "Model: \"sequential_3\"\n",
      "_________________________________________________________________\n",
      "Layer (type)                 Output Shape              Param #   \n",
      "=================================================================\n",
      "normalization_1 (Normalizati (None, 2)                 5         \n",
      "_________________________________________________________________\n",
      "dense_5 (Dense)              (None, 64)                192       \n",
      "_________________________________________________________________\n",
      "dense_6 (Dense)              (None, 64)                4160      \n",
      "_________________________________________________________________\n",
      "dense_7 (Dense)              (None, 1)                 65        \n",
      "=================================================================\n",
      "Total params: 4,422\n",
      "Trainable params: 4,417\n",
      "Non-trainable params: 5\n",
      "_________________________________________________________________\n"
     ]
    }
   ],
   "source": [
    "# Pre-processing, home / away\n",
    "normalizer = preprocessing.Normalization(axis=-1)\n",
    "normalizer.adapt(np.array(train_features))\n",
    "\n",
    "normalizer2 = preprocessing.Normalization(axis=-1)\n",
    "normalizer2.adapt(np.array(train_features2))\n",
    "\n",
    "# Model functions, home / away\n",
    "# home\n",
    "linear_model = tf.keras.Sequential([\n",
    "    normalizer,\n",
    "    layers.Dense(units=1)\n",
    "])\n",
    "# away\n",
    "linear_model2 = tf.keras.Sequential([\n",
    "    normalizer2,\n",
    "    layers.Dense(units=1)\n",
    "])\n",
    "\n",
    "def build_and_compile_model(norm):\n",
    "  model = keras.Sequential([\n",
    "      norm,\n",
    "      layers.Dense(64, activation='relu'),\n",
    "      layers.Dense(64, activation='relu'),\n",
    "      layers.Dense(1)\n",
    "  ])\n",
    "\n",
    "  model.compile(loss='mean_absolute_error',\n",
    "                optimizer=tf.keras.optimizers.Adam(0.0025))\n",
    "  return model\n",
    "\n",
    "# Building model, home / away\n",
    "dnn_model = build_and_compile_model(normalizer)\n",
    "dnn_model.summary()\n",
    "\n",
    "dnn_model2 = build_and_compile_model(normalizer2)\n",
    "dnn_model2.summary()"
   ]
  },
  {
   "cell_type": "code",
   "execution_count": 6,
   "id": "f94dacf2",
   "metadata": {},
   "outputs": [
    {
     "name": "stdout",
     "output_type": "stream",
     "text": [
      "CPU times: user 23.8 s, sys: 3.06 s, total: 26.8 s\n",
      "Wall time: 20.4 s\n"
     ]
    }
   ],
   "source": [
    "%%time\n",
    "history = dnn_model.fit(\n",
    "    train_features, train_labels,\n",
    "    validation_split=0.2,\n",
    "    verbose=0, epochs=1000)\n",
    "\n",
    "# training model home"
   ]
  },
  {
   "cell_type": "code",
   "execution_count": 7,
   "id": "c3f14201",
   "metadata": {},
   "outputs": [
    {
     "name": "stdout",
     "output_type": "stream",
     "text": [
      "CPU times: user 23.5 s, sys: 3.18 s, total: 26.7 s\n",
      "Wall time: 20 s\n"
     ]
    }
   ],
   "source": [
    "%%time\n",
    "history = dnn_model2.fit(\n",
    "    train_features2, train_labels2,\n",
    "    validation_split=0.2,\n",
    "    verbose=0, epochs=1000)\n",
    "\n",
    "# training model away"
   ]
  },
  {
   "cell_type": "code",
   "execution_count": 8,
   "id": "c4b90019",
   "metadata": {},
   "outputs": [
    {
     "data": {
      "text/html": [
       "<div>\n",
       "<style scoped>\n",
       "    .dataframe tbody tr th:only-of-type {\n",
       "        vertical-align: middle;\n",
       "    }\n",
       "\n",
       "    .dataframe tbody tr th {\n",
       "        vertical-align: top;\n",
       "    }\n",
       "\n",
       "    .dataframe thead th {\n",
       "        text-align: right;\n",
       "    }\n",
       "</style>\n",
       "<table border=\"1\" class=\"dataframe\">\n",
       "  <thead>\n",
       "    <tr style=\"text-align: right;\">\n",
       "      <th></th>\n",
       "      <th>Mean absolute error [away_score]</th>\n",
       "    </tr>\n",
       "  </thead>\n",
       "  <tbody>\n",
       "    <tr>\n",
       "      <th>dnn_model2</th>\n",
       "      <td>0.913539</td>\n",
       "    </tr>\n",
       "  </tbody>\n",
       "</table>\n",
       "</div>"
      ],
      "text/plain": [
       "            Mean absolute error [away_score]\n",
       "dnn_model2                          0.913539"
      ]
     },
     "execution_count": 8,
     "metadata": {},
     "output_type": "execute_result"
    }
   ],
   "source": [
    "test_results = {}\n",
    "test_results['dnn_model'] = dnn_model.evaluate(test_features, test_labels, verbose=0)\n",
    "pd.DataFrame(test_results, index=['Mean absolute error [home_score]']).T\n",
    "\n",
    "test_results2 = {}\n",
    "test_results2['dnn_model2'] = dnn_model2.evaluate(test_features2, test_labels2, verbose=0)\n",
    "pd.DataFrame(test_results2, index=['Mean absolute error [away_score]']).T\n"
   ]
  },
  {
   "cell_type": "code",
   "execution_count": 9,
   "id": "0752fa15",
   "metadata": {},
   "outputs": [
    {
     "data": {
      "text/plain": [
       "[0.69554865, 1.0662184]"
      ]
     },
     "execution_count": 9,
     "metadata": {},
     "output_type": "execute_result"
    }
   ],
   "source": [
    "# Predicting home_xG and away_xG for upcoming fixtures\n",
    "home_xg_features = upcoming_afc[['H_attack', 'A_defence']]\n",
    "pred_home_xg = dnn_model.predict(home_xg_features).flatten()\n",
    "pred_home_xg = [0 if i < 0 else i for i in pred_home_xg]\n",
    "\n",
    "away_xg_features = upcoming_afc[['H_defence', 'A_attack']]\n",
    "pred_away_xg = dnn_model2.predict(away_xg_features).flatten()\n",
    "pred_away_xg = [0 if i < 0 else i for i in pred_away_xg]\n",
    "pred_away_xg"
   ]
  },
  {
   "cell_type": "code",
   "execution_count": 17,
   "id": "5bcec53c",
   "metadata": {},
   "outputs": [
    {
     "data": {
      "text/plain": [
       "[0, 1]"
      ]
     },
     "execution_count": 17,
     "metadata": {},
     "output_type": "execute_result"
    }
   ],
   "source": [
    "# Run the poisson results for the home team\n",
    "home_outcome = []\n",
    "\n",
    "for i in range(len(pred_home_xg)):\n",
    "    expected = pred_home_xg[i] + 0.5\n",
    "    poi = poisson.rvs(expected, size=10000)\n",
    "    # Select most common outcome and append to the poisson outcome list\n",
    "    common = st.mode(poi)\n",
    "    home_outcome.append(common)\n",
    "\n",
    "home_outcome"
   ]
  },
  {
   "cell_type": "code",
   "execution_count": 18,
   "id": "de18f3a2",
   "metadata": {},
   "outputs": [
    {
     "data": {
      "text/plain": [
       "[1, 1]"
      ]
     },
     "execution_count": 18,
     "metadata": {},
     "output_type": "execute_result"
    }
   ],
   "source": [
    "# Run the poisson results for the away team\n",
    "away_outcome = []\n",
    "\n",
    "for i in range(len(pred_away_xg)):\n",
    "    expected = pred_away_xg[i] + 0.5\n",
    "    poi = poisson.rvs(expected, size=10000)\n",
    "    # Select most common outcome and append to the poisson outcome list\n",
    "    common = st.mode(poi)\n",
    "    away_outcome.append(common)\n",
    "\n",
    "away_outcome"
   ]
  },
  {
   "cell_type": "code",
   "execution_count": 19,
   "id": "744e7332",
   "metadata": {},
   "outputs": [
    {
     "data": {
      "text/html": [
       "<div>\n",
       "<style scoped>\n",
       "    .dataframe tbody tr th:only-of-type {\n",
       "        vertical-align: middle;\n",
       "    }\n",
       "\n",
       "    .dataframe tbody tr th {\n",
       "        vertical-align: top;\n",
       "    }\n",
       "\n",
       "    .dataframe thead th {\n",
       "        text-align: right;\n",
       "    }\n",
       "</style>\n",
       "<table border=\"1\" class=\"dataframe\">\n",
       "  <thead>\n",
       "    <tr style=\"text-align: right;\">\n",
       "      <th></th>\n",
       "      <th>Home</th>\n",
       "      <th>Away</th>\n",
       "      <th>Poisson_H_xG</th>\n",
       "      <th>Poisson_A_xG</th>\n",
       "      <th>Results</th>\n",
       "      <th>H_Points</th>\n",
       "      <th>A_Points</th>\n",
       "    </tr>\n",
       "  </thead>\n",
       "  <tbody>\n",
       "    <tr>\n",
       "      <th>0</th>\n",
       "      <td>South Korea</td>\n",
       "      <td>Japan</td>\n",
       "      <td>0</td>\n",
       "      <td>1</td>\n",
       "      <td>A_WIN</td>\n",
       "      <td>0</td>\n",
       "      <td>3</td>\n",
       "    </tr>\n",
       "    <tr>\n",
       "      <th>1</th>\n",
       "      <td>Japan</td>\n",
       "      <td>South Korea</td>\n",
       "      <td>1</td>\n",
       "      <td>1</td>\n",
       "      <td>DRAW</td>\n",
       "      <td>1</td>\n",
       "      <td>1</td>\n",
       "    </tr>\n",
       "  </tbody>\n",
       "</table>\n",
       "</div>"
      ],
      "text/plain": [
       "          Home         Away  Poisson_H_xG  Poisson_A_xG Results  H_Points  \\\n",
       "0  South Korea        Japan             0             1   A_WIN         0   \n",
       "1        Japan  South Korea             1             1    DRAW         1   \n",
       "\n",
       "   A_Points  \n",
       "0         3  \n",
       "1         1  "
      ]
     },
     "execution_count": 19,
     "metadata": {},
     "output_type": "execute_result"
    }
   ],
   "source": [
    "upcoming_afc[\"Poisson_H_xG\"] = home_outcome\n",
    "upcoming_afc[\"Poisson_A_xG\"] = away_outcome\n",
    "afc_result = upcoming_afc[['Home', 'Away', 'Poisson_H_xG', 'Poisson_A_xG']]\n",
    "\n",
    "result = []\n",
    "outcomes = [\"H_WIN\", \"DRAW\", \"A_WIN\"]\n",
    "for i in range(len(away_outcome)):\n",
    "    if upcoming_afc[\"Poisson_H_xG\"][i] > upcoming_afc[\"Poisson_A_xG\"][i]:\n",
    "        result.append(outcomes[0])\n",
    "    elif upcoming_afc[\"Poisson_H_xG\"][i] == upcoming_afc[\"Poisson_A_xG\"][i]:\n",
    "        result.append(outcomes[1])\n",
    "    else:\n",
    "        result.append(outcomes[2])\n",
    "\n",
    "afc_result[\"Results\"] = result\n",
    "\n",
    "H_Points = []\n",
    "A_Points = []\n",
    "for i in range(len(away_outcome)):\n",
    "    if result[i] == \"H_WIN\":\n",
    "        H_Points.append(3)\n",
    "        A_Points.append(0)\n",
    "    elif result[i] == \"DRAW\":\n",
    "        H_Points.append(1)\n",
    "        A_Points.append(1)\n",
    "    else:\n",
    "        H_Points.append(0)\n",
    "        A_Points.append(3)\n",
    "       \n",
    "        \n",
    "afc_result[\"H_Points\"] = H_Points\n",
    "afc_result[\"A_Points\"] = A_Points\n",
    "afc_result"
   ]
  },
  {
   "cell_type": "code",
   "execution_count": 20,
   "id": "a4065eb4",
   "metadata": {},
   "outputs": [
    {
     "data": {
      "text/plain": [
       "Home\n",
       "Japan          4\n",
       "South Korea    1\n",
       "dtype: int64"
      ]
     },
     "execution_count": 20,
     "metadata": {},
     "output_type": "execute_result"
    }
   ],
   "source": [
    "# Create Points Table\n",
    "afc_home = afc_result.groupby(\"Home\")[\"H_Points\"].sum()\n",
    "afc_away = afc_result.groupby(\"Away\")[\"A_Points\"].sum()\n",
    "points = afc_home + afc_away\n",
    "points"
   ]
  },
  {
   "cell_type": "code",
   "execution_count": null,
   "id": "d3f6a6b7",
   "metadata": {},
   "outputs": [],
   "source": [
    "#afc_result.to_csv(\"/Users/abhijotsingh/Desktop/AtlassianDatathon/CAF/CAF_upcomingresults_dnn3.csv\", index=False)\n",
    "#points.to_csv(\"/Users/abhijotsingh/Desktop/AtlassianDatathon/CAF/CAF_POINTS_change.csv\", index=False)"
   ]
  },
  {
   "cell_type": "code",
   "execution_count": null,
   "id": "477bf089",
   "metadata": {},
   "outputs": [],
   "source": []
  }
 ],
 "metadata": {
  "kernelspec": {
   "display_name": "Python 3",
   "language": "python",
   "name": "python3"
  },
  "language_info": {
   "codemirror_mode": {
    "name": "ipython",
    "version": 3
   },
   "file_extension": ".py",
   "mimetype": "text/x-python",
   "name": "python",
   "nbconvert_exporter": "python",
   "pygments_lexer": "ipython3",
   "version": "3.8.8"
  }
 },
 "nbformat": 4,
 "nbformat_minor": 5
}
